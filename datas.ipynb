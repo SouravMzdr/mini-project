{
 "cells": [
  {
   "cell_type": "code",
   "execution_count": 44,
   "metadata": {},
   "outputs": [],
   "source": [
    "class Generate_Database:\n",
    "    import numpy as np\n",
    "    import cv2\n",
    "    from align import AlignDlib\n",
    "    import dlib\n",
    "    def __init__(self,model,alignment):\n",
    "        self.model=model\n",
    "        self.database={}\n",
    "        self.alignment=alignment\n",
    "    \n",
    "    \n",
    "    def align_image(self,img,bb):\n",
    "        alignment=self.alignment\n",
    "        '''\n",
    "        OBJECTIVE: Align a face based using DLIB model\n",
    "\n",
    "        Parameter:\n",
    "        test - RGB Image\n",
    "        bb - bounding box around the person to be searched\n",
    "\n",
    "        Returns:\n",
    "        Aligned face\n",
    "\n",
    "        '''\n",
    "\n",
    "        # return alignment.align(96, img, alignment.getLargestFaceBoundingBox(img), landmarkIndices=AlignDlib.OUTER_EYES_AND_NOSE)\n",
    "        if(bb):\n",
    "            return alignment.align(96, img, bb, landmarkIndices=AlignDlib.OUTER_EYES_AND_NOSE)\n",
    "        else:\n",
    "            return alignment.align(96, img, alignment.getLargestFaceBoundingBox(img), landmarkIndices=AlignDlib.OUTER_EYES_AND_NOSE)\n",
    "    \n",
    "    \n",
    "    \n",
    "    \n",
    "    def generate_encoding(self,img,bb):\n",
    "        import numpy as np\n",
    "    \n",
    "        model=self.model\n",
    "        '''\n",
    "        OBJECTIVE: Generates an 128D encoding based on the loaded model\n",
    "\n",
    "        Parameter:\n",
    "        test - RGB Image\n",
    "        bb - bounding box around the person to be searched\n",
    "\n",
    "        Returns:\n",
    "        embedded-128D encoding\n",
    "        '''\n",
    "        embedded = np.zeros((1, 128)) #Declare a placeholder variable\n",
    "        #print(m.image_path())    \n",
    "        # img = load_image(path)\n",
    "        img = self.align_image(img,bb) #Align the image \n",
    "        # plt.imshow(img)\n",
    "        # scale RGB values to interval [0,1]\n",
    "        img = (img / 255.).astype(np.float32)\n",
    "        # obtain embedding vector for image\n",
    "        embedded= model.predict(np.expand_dims(img, axis=0))[0] #generate encoding\n",
    "        return embedded\n",
    "    \n",
    "    \n",
    "    def make_database(self,entries):\n",
    "        database=self.database\n",
    "       \n",
    "        '''\n",
    "        OBJECTIVE: Generate Database\n",
    "\n",
    "        Parameters:python dictionary with the keys as id and values and image path \n",
    "        '''\n",
    "        \n",
    "        print('[INFO]:Creating New Database....')    \n",
    "        for (i,j) in entries.items():\n",
    "            if i not in database.keys():\n",
    "                img = entries[i]\n",
    "                #       print(i)\n",
    "                database[i] = self.generate_encoding(img,0)\n",
    "        print('[INFO]:New Database Creation Completed!')\n",
    "        return database"
   ]
  },
  {
   "cell_type": "code",
   "execution_count": 45,
   "metadata": {},
   "outputs": [],
   "source": [
    "\n",
    "import matplotlib.pyplot as plt\n",
    "import cv2\n",
    "import tensorflow as tf\n",
    "from keras.models import load_model,model_from_json"
   ]
  },
  {
   "cell_type": "code",
   "execution_count": null,
   "metadata": {},
   "outputs": [],
   "source": [
    "from align import AlignDlib\n",
    "alignment = AlignDlib('shape_predictor_68_face_landmarks.dat')"
   ]
  },
  {
   "cell_type": "code",
   "execution_count": null,
   "metadata": {},
   "outputs": [],
   "source": [
    "def load_final_model():\n",
    "    '''\n",
    "    Loads the Final Model saved in the fir 'final_model'\n",
    "    '''\n",
    "    # load json and create model\n",
    "    json_file = open('final_model/model.json', 'r')\n",
    "    loaded_model_json = json_file.read()\n",
    "    json_file.close()\n",
    "    nn4_small2 = model_from_json(loaded_model_json,custom_objects={'tf': tf})\n",
    "    # load weights into new model\n",
    "    nn4_small2.load_weights(\"final_model/model.h5\")\n",
    "    print(\"[INFO]:Loaded model from disk\")\n",
    "    return nn4_small2"
   ]
  },
  {
   "cell_type": "code",
   "execution_count": null,
   "metadata": {},
   "outputs": [],
   "source": [
    "model=load_final_model()"
   ]
  },
  {
   "cell_type": "code",
   "execution_count": null,
   "metadata": {},
   "outputs": [],
   "source": [
    "db=Generate_Database(model,alignment)"
   ]
  },
  {
   "cell_type": "code",
   "execution_count": null,
   "metadata": {},
   "outputs": [],
   "source": [
    "import os\n",
    "import re\n",
    "path= \"./images\"\n",
    "mylist=os.listdir(path)\n",
    "my_images=[]\n",
    "myclass=[]\n",
    "\n",
    "for cl in mylist:\n",
    "    if re.search(r'.*jpg$',str(cl)) !=None:\n",
    "        img=cv2.imread(os.path.join(path,cl))\n",
    "        img = cv2.cvtColor(img, cv2.COLOR_BGR2RGB)\n",
    "        my_images.append(img)\n",
    "        myclass.append(os.path.splitext(cl)[0])\n",
    "\n",
    "        \n",
    "        \n",
    "print(my_images[0].shape)\n",
    "plt.title(myclass[0])\n",
    "plt.imshow(my_images[0])"
   ]
  },
  {
   "cell_type": "code",
   "execution_count": null,
   "metadata": {},
   "outputs": [],
   "source": [
    "entries={myclass[i]:my_images[i] for i in range(len(myclass))}"
   ]
  },
  {
   "cell_type": "code",
   "execution_count": null,
   "metadata": {},
   "outputs": [],
   "source": [
    "database=db.make_database(entries)"
   ]
  },
  {
   "cell_type": "code",
   "execution_count": null,
   "metadata": {},
   "outputs": [],
   "source": [
    "database[\"hrishi\"].shape"
   ]
  },
  {
   "cell_type": "code",
   "execution_count": null,
   "metadata": {},
   "outputs": [],
   "source": []
  }
 ],
 "metadata": {
  "kernelspec": {
   "display_name": "mini_project",
   "language": "python",
   "name": "python3.8.3"
  },
  "language_info": {
   "codemirror_mode": {
    "name": "ipython",
    "version": 3
   },
   "file_extension": ".py",
   "mimetype": "text/x-python",
   "name": "python",
   "nbconvert_exporter": "python",
   "pygments_lexer": "ipython3",
   "version": "3.8.3"
  }
 },
 "nbformat": 4,
 "nbformat_minor": 4
}
